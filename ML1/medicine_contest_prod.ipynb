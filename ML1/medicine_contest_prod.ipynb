{
 "cells": [
  {
   "cell_type": "code",
   "execution_count": 88,
   "id": "cd8622f3",
   "metadata": {},
   "outputs": [],
   "source": [
    "import pandas as pd\n",
    "import numpy as np\n",
    "import matplotlib.pyplot as plt\n",
    "from sklearn import svm\n",
    "import seaborn as sns\n",
    "from sklearn.metrics import f1_score, precision_score, recall_score\n",
    "from sklearn.model_selection import train_test_split\n",
    "from sklearn.linear_model import LogisticRegression\n",
    "from sklearn.metrics import confusion_matrix"
   ]
  },
  {
   "cell_type": "code",
   "execution_count": 89,
   "id": "121ff66c",
   "metadata": {},
   "outputs": [],
   "source": [
    "def normalize(df):\n",
    "    return (df-df.mean())/df.std()"
   ]
  },
  {
   "cell_type": "code",
   "execution_count": 90,
   "id": "4ac1bb3e",
   "metadata": {},
   "outputs": [
    {
     "data": {
      "text/plain": [
       "((6963, 31), (3920, 30))"
      ]
     },
     "execution_count": 90,
     "metadata": {},
     "output_type": "execute_result"
    }
   ],
   "source": [
    "train = pd.read_csv('train.csv')\n",
    "test = pd.read_csv('test.csv')\n",
    "\n",
    "train.drop(columns=['5'], inplace=True)\n",
    "test.drop(columns=['5'], inplace=True)\n",
    "\n",
    "num_cols = list(train.columns[:-1])\n",
    "train[num_cols] = normalize(train[num_cols])\n",
    "test[num_cols] = normalize(test[num_cols])\n",
    "\n",
    "np.shape(train), np.shape(test)"
   ]
  },
  {
   "cell_type": "code",
   "execution_count": 91,
   "id": "623e51e7",
   "metadata": {},
   "outputs": [],
   "source": [
    "X_train, X_val, y_train, y_val = train_test_split(train[num_cols], train.iloc[:, -1], test_size=0.3, random_state=0)\n",
    "X_test = test[num_cols]"
   ]
  },
  {
   "cell_type": "markdown",
   "id": "46bdc3f5",
   "metadata": {},
   "source": [
    "### SVM "
   ]
  },
  {
   "cell_type": "code",
   "execution_count": 92,
   "id": "7c2c6a3b",
   "metadata": {},
   "outputs": [
    {
     "data": {
      "text/plain": [
       "(0.8801431127012522, 0.9479768786127167, 0.8213689482470785)"
      ]
     },
     "execution_count": 92,
     "metadata": {},
     "output_type": "execute_result"
    }
   ],
   "source": [
    "model = svm.SVC()\n",
    "model = model.fit(X_train, y_train)\n",
    "y_val_pred = model.predict(X_val)\n",
    "\n",
    "f1_score(y_val, y_val_pred), precision_score(y_val, y_val_pred), recall_score(y_val, y_val_pred)"
   ]
  },
  {
   "cell_type": "code",
   "execution_count": 93,
   "id": "ae11e1e4",
   "metadata": {},
   "outputs": [
    {
     "data": {
      "text/plain": [
       "array([[1463,   27],\n",
       "       [ 107,  492]], dtype=int64)"
      ]
     },
     "execution_count": 93,
     "metadata": {},
     "output_type": "execute_result"
    }
   ],
   "source": [
    "confusion_matrix(y_val, y_val_pred)"
   ]
  },
  {
   "cell_type": "code",
   "execution_count": 94,
   "id": "c8711a76",
   "metadata": {},
   "outputs": [],
   "source": [
    "# X = pd.concat([X_train, X_val])\n",
    "# y = pd.concat([y_train, y_val])\n",
    "# model.fit(X, y)\n",
    "\n",
    "# answer = pd.DataFrame()\n",
    "# answer['target'] = model.predict(X_test)\n",
    "# answer.target.value_counts()"
   ]
  },
  {
   "cell_type": "markdown",
   "id": "b150e35a",
   "metadata": {},
   "source": [
    "### Oversampling"
   ]
  },
  {
   "cell_type": "markdown",
   "id": "e838911f",
   "metadata": {},
   "source": [
    "### Данное решение выше было загружено на All_Cups"
   ]
  },
  {
   "cell_type": "code",
   "execution_count": 96,
   "id": "3ba801e1",
   "metadata": {},
   "outputs": [],
   "source": [
    "# separate minority and majority class\n",
    "from sklearn.utils import resample\n",
    "\n",
    "def oversampling(X_train, y_train):\n",
    "    train_data = pd.concat([X_train, y_train], axis=1)\n",
    "    zero_class = train_data[train_data['target']==0] \n",
    "    one_class = train_data[train_data['target']==1]  # minority\n",
    "    one_class_upsampled = resample(one_class, replace=True, \n",
    "                                  n_samples=len(zero_class),\n",
    "                                  random_state=27)\n",
    "    # combine majority and upsampled minority\n",
    "    upsampled = pd.concat([zero_class, one_class_upsampled])\n",
    "\n",
    "    X_train_up = upsampled.copy()\n",
    "    X_train_up.drop(columns='target', inplace=True)\n",
    "    y_train_up = upsampled['target']\n",
    "    return X_train_up, y_train_up"
   ]
  },
  {
   "cell_type": "code",
   "execution_count": 97,
   "id": "2d6a6182",
   "metadata": {},
   "outputs": [
    {
     "data": {
      "text/plain": [
       "(0.8995057660626029, 0.8878048780487805, 0.9115191986644408)"
      ]
     },
     "execution_count": 97,
     "metadata": {},
     "output_type": "execute_result"
    }
   ],
   "source": [
    "model = svm.SVC() ### подобранные параметры kernel='rbf', C=1.33)\n",
    "X_train_up, y_train_up = oversampling(X_train, y_train)\n",
    "model = model.fit(X_train_up, y_train_up)\n",
    "y_val_pred = model.predict(X_val)\n",
    "\n",
    "f1_score(y_val, y_val_pred), precision_score(y_val, y_val_pred), recall_score(y_val, y_val_pred)"
   ]
  },
  {
   "cell_type": "code",
   "execution_count": 98,
   "id": "1674374e",
   "metadata": {
    "scrolled": true
   },
   "outputs": [
    {
     "data": {
      "text/plain": [
       "array([[1421,   69],\n",
       "       [  53,  546]], dtype=int64)"
      ]
     },
     "execution_count": 98,
     "metadata": {},
     "output_type": "execute_result"
    }
   ],
   "source": [
    "confusion_matrix(y_val, y_val_pred)"
   ]
  },
  {
   "cell_type": "code",
   "execution_count": 99,
   "id": "b6ff1050",
   "metadata": {},
   "outputs": [],
   "source": [
    "answer = pd.DataFrame()\n",
    "answer['target'] = model.predict(X_test)\n",
    "# answer.to_csv('svc_all_normal_sub.csv', index=False)"
   ]
  },
  {
   "cell_type": "code",
   "execution_count": 100,
   "id": "a86e4603",
   "metadata": {
    "scrolled": false
   },
   "outputs": [
    {
     "data": {
      "text/plain": [
       "0    2119\n",
       "1    1801\n",
       "Name: target, dtype: int64"
      ]
     },
     "execution_count": 100,
     "metadata": {},
     "output_type": "execute_result"
    }
   ],
   "source": [
    "answer.target.value_counts()"
   ]
  },
  {
   "cell_type": "markdown",
   "id": "1fcf4dc1",
   "metadata": {},
   "source": [
    "### Detecting outliers"
   ]
  },
  {
   "cell_type": "code",
   "execution_count": 101,
   "id": "719b2ea7",
   "metadata": {
    "scrolled": true
   },
   "outputs": [],
   "source": [
    "from sklearn.ensemble import IsolationForest\n",
    "def isolation_outliers(X_train, y_train):\n",
    "    iso = IsolationForest(contamination=0.01)\n",
    "    y_hat = iso.fit_predict(X_train)\n",
    "    mask = y_hat != -1\n",
    "    X_train_iso, y_train_iso = X_train[mask], y_train[mask]\n",
    "    return X_train_iso, y_train_iso"
   ]
  },
  {
   "cell_type": "code",
   "execution_count": 102,
   "id": "489c30b1",
   "metadata": {},
   "outputs": [
    {
     "name": "stderr",
     "output_type": "stream",
     "text": [
      "C:\\Users\\obars\\miniconda3\\lib\\site-packages\\sklearn\\base.py:450: UserWarning: X does not have valid feature names, but IsolationForest was fitted with feature names\n",
      "  warnings.warn(\n"
     ]
    }
   ],
   "source": [
    "X_train_iso, y_train_iso = isolation_outliers(X_train_up, y_train_up)"
   ]
  },
  {
   "cell_type": "code",
   "execution_count": 103,
   "id": "7bcd0de1",
   "metadata": {
    "scrolled": true
   },
   "outputs": [
    {
     "data": {
      "text/plain": [
       "(0.8993399339933993, 0.8890701468189234, 0.9098497495826378)"
      ]
     },
     "execution_count": 103,
     "metadata": {},
     "output_type": "execute_result"
    }
   ],
   "source": [
    "model = svm.SVC() ### подобранные параметры kernel='rbf', C=1.33)\n",
    "model = model.fit(X_train_iso, y_train_iso)\n",
    "y_val_pred = model.predict(X_val)\n",
    "\n",
    "f1_score(y_val, y_val_pred), precision_score(y_val, y_val_pred), recall_score(y_val, y_val_pred)"
   ]
  },
  {
   "cell_type": "code",
   "execution_count": 104,
   "id": "bf51d10f",
   "metadata": {
    "scrolled": true
   },
   "outputs": [
    {
     "data": {
      "text/plain": [
       "array([[1422,   68],\n",
       "       [  54,  545]], dtype=int64)"
      ]
     },
     "execution_count": 104,
     "metadata": {},
     "output_type": "execute_result"
    }
   ],
   "source": [
    "confusion_matrix(y_val, y_val_pred)"
   ]
  },
  {
   "cell_type": "markdown",
   "id": "86d18823",
   "metadata": {},
   "source": [
    "### SVM One Class"
   ]
  },
  {
   "cell_type": "code",
   "execution_count": 154,
   "id": "81720f17",
   "metadata": {},
   "outputs": [
    {
     "data": {
      "text/plain": [
       "(0.9008264462809917, 0.8919803600654664, 0.9098497495826378)"
      ]
     },
     "execution_count": 154,
     "metadata": {},
     "output_type": "execute_result"
    }
   ],
   "source": [
    "X_train_cl, y_train_cl = one_class(X_train_up, y_train_up)\n",
    "\n",
    "one_class_model = svm.SVC()\n",
    "one_class_model = one_class_model.fit(X_train_cl, y_train_cl)\n",
    "y_val_pred = one_class_model.predict(X_val)\n",
    "\n",
    "f1_score(y_val, y_val_pred), precision_score(y_val, y_val_pred), recall_score(y_val, y_val_pred)"
   ]
  },
  {
   "cell_type": "code",
   "execution_count": 155,
   "id": "59a9f3b0",
   "metadata": {
    "scrolled": false
   },
   "outputs": [
    {
     "data": {
      "text/plain": [
       "array([[1424,   66],\n",
       "       [  54,  545]], dtype=int64)"
      ]
     },
     "execution_count": 155,
     "metadata": {},
     "output_type": "execute_result"
    }
   ],
   "source": [
    "confusion_matrix(y_val, y_val_pred)"
   ]
  },
  {
   "cell_type": "code",
   "execution_count": 190,
   "id": "1813997c",
   "metadata": {},
   "outputs": [],
   "source": [
    "answer = pd.DataFrame()\n",
    "answer['target'] = one_class_model.predict(X_test)"
   ]
  },
  {
   "cell_type": "code",
   "execution_count": 191,
   "id": "d3803f22",
   "metadata": {},
   "outputs": [
    {
     "data": {
      "text/plain": [
       "0    2126\n",
       "1    1794\n",
       "Name: target, dtype: int64"
      ]
     },
     "execution_count": 191,
     "metadata": {},
     "output_type": "execute_result"
    }
   ],
   "source": [
    "answer.target.value_counts()"
   ]
  },
  {
   "cell_type": "markdown",
   "id": "c259e2d1",
   "metadata": {},
   "source": [
    "### Probability"
   ]
  },
  {
   "cell_type": "code",
   "execution_count": 164,
   "id": "f667ac2a",
   "metadata": {},
   "outputs": [],
   "source": [
    "### Trying mode with probability\n",
    "from sklearn.calibration import CalibratedClassifierCV\n",
    "\n",
    "proba_model = svm.SVC() ### подобранные параметры kernel='rbf', C=1.33)\n",
    "clf = CalibratedClassifierCV(proba_model)\n",
    "clf.fit(X_train_up, y_train_up)\n",
    "y_proba = clf.predict_proba(X_val)"
   ]
  },
  {
   "cell_type": "code",
   "execution_count": 165,
   "id": "adbaaeb7",
   "metadata": {},
   "outputs": [],
   "source": [
    "### Посмотрим, можно ли поиграться с cut-off для лучшего значения f1\n",
    "f_scores = []\n",
    "for i in range(1, 100):\n",
    "    pred_prob_y = y_proba[:, 1] >= i/100\n",
    "    pred_prob_y = pred_prob_y + 0\n",
    "    f = f1_score(y_val, pred_prob_y)\n",
    "    f_scores.append(f)"
   ]
  },
  {
   "cell_type": "code",
   "execution_count": 166,
   "id": "99f4e8c1",
   "metadata": {
    "scrolled": true
   },
   "outputs": [
    {
     "data": {
      "text/plain": [
       "(50, 0.8979253112033194)"
      ]
     },
     "execution_count": 166,
     "metadata": {},
     "output_type": "execute_result"
    }
   ],
   "source": [
    "np.argmax(f_scores), np.max(f_scores)"
   ]
  },
  {
   "cell_type": "code",
   "execution_count": 184,
   "id": "4e295198",
   "metadata": {
    "scrolled": true
   },
   "outputs": [
    {
     "data": {
      "text/plain": [
       "(array([[1437,   53],\n",
       "        [  70,  529]], dtype=int64),\n",
       " 0.8958509737510585)"
      ]
     },
     "execution_count": 184,
     "metadata": {},
     "output_type": "execute_result"
    }
   ],
   "source": [
    "y_proba = clf.predict_proba(X_val)\n",
    "pred_prob_y = y_proba[:, 1] > 60/100\n",
    "pred_prob_y = pred_prob_y + 0\n",
    "confusion_matrix(y_val, pred_prob_y), f1_score(y_val, pred_prob_y)"
   ]
  },
  {
   "cell_type": "code",
   "execution_count": 192,
   "id": "16d18e32",
   "metadata": {},
   "outputs": [],
   "source": [
    "y_proba = clf.predict_proba(X_test)\n",
    "pred_prob_y = y_proba[:, 1] >= 60/100\n",
    "pred_prob_y = pred_prob_y + 0\n",
    "answer['target_2'] = pred_prob_y"
   ]
  },
  {
   "cell_type": "markdown",
   "id": "09e2930f",
   "metadata": {},
   "source": [
    "### Trying to combine probability and One class  "
   ]
  },
  {
   "cell_type": "code",
   "execution_count": 132,
   "id": "e3cbef1b",
   "metadata": {},
   "outputs": [],
   "source": [
    "#answer[['target', 'target_ocl', 'target_prob']].value_counts()"
   ]
  },
  {
   "cell_type": "code",
   "execution_count": 133,
   "id": "f4c32a38",
   "metadata": {},
   "outputs": [
    {
     "data": {
      "text/plain": [
       "target  target_2\n",
       "0       0           2115\n",
       "1       1           1791\n",
       "        0             10\n",
       "0       1              4\n",
       "dtype: int64"
      ]
     },
     "execution_count": 133,
     "metadata": {},
     "output_type": "execute_result"
    }
   ],
   "source": [
    "y_target = answer.target_ocl|answer.target_prob\n",
    "answer['target_2'] = y_target\n",
    "answer[['target', 'target_2']].value_counts()"
   ]
  },
  {
   "cell_type": "markdown",
   "id": "c5312951",
   "metadata": {},
   "source": [
    "### RF "
   ]
  },
  {
   "cell_type": "code",
   "execution_count": 186,
   "id": "bdfc685f",
   "metadata": {},
   "outputs": [
    {
     "data": {
      "text/plain": [
       "(array([[1479,   11],\n",
       "        [ 282,  317]], dtype=int64),\n",
       " 0.6839266450916937)"
      ]
     },
     "execution_count": 186,
     "metadata": {},
     "output_type": "execute_result"
    }
   ],
   "source": [
    "from sklearn.ensemble import RandomForestClassifier\n",
    "rf_clf = RandomForestClassifier(random_state=42, n_estimators=850)\n",
    "rf_clf.fit(X_train_iso, y_train_iso)\n",
    "y_val_pred = rf_clf.predict(X_val)\n",
    "confusion_matrix(y_val, y_val_pred), f1_score(y_val, y_val_pred)"
   ]
  },
  {
   "cell_type": "code",
   "execution_count": 146,
   "id": "b02ff625",
   "metadata": {},
   "outputs": [],
   "source": [
    "# f = []\n",
    "# for i in range(500, 1000, 50):\n",
    "#     n_estimators = i\n",
    "#     rf_clf = RandomForestClassifier(random_state=42, n_estimators=n_estimators)\n",
    "#     rf_clf.fit(X_train_iso, y_train_iso)\n",
    "#     y_val_pred = rf_clf.predict(X_val)\n",
    "#     f.append(f1_score(y_val, y_val_pred))"
   ]
  },
  {
   "cell_type": "code",
   "execution_count": 136,
   "id": "b4ea58ae",
   "metadata": {},
   "outputs": [
    {
     "data": {
      "text/plain": [
       "(array([[1487,    3],\n",
       "        [ 321,  278]], dtype=int64),\n",
       " 0.6318181818181818)"
      ]
     },
     "execution_count": 136,
     "metadata": {},
     "output_type": "execute_result"
    }
   ],
   "source": [
    "# from sklearn.ensemble import RandomForestClassifier\n",
    "# rf_clf = RandomForestClassifier(random_state=42, n_estimators=1000)\n",
    "# rf_clf.fit(X_train, y_train)\n",
    "# y_val_pred = rf_clf.predict(X_val)\n",
    "# confusion_matrix(y_val, y_val_pred), f1_score(y_val, y_val_pred)"
   ]
  },
  {
   "cell_type": "code",
   "execution_count": 193,
   "id": "1bed97c4",
   "metadata": {},
   "outputs": [
    {
     "data": {
      "text/plain": [
       "target  target_2  target_3\n",
       "0       0         0           2116\n",
       "1       1         1            992\n",
       "                  0            709\n",
       "        0         0             89\n",
       "0       0         1             10\n",
       "1       0         1              4\n",
       "dtype: int64"
      ]
     },
     "execution_count": 193,
     "metadata": {},
     "output_type": "execute_result"
    }
   ],
   "source": [
    "### получили лишние 9 единиц по сравнению с предыдущей моделью\n",
    "answer['target_3'] = rf_clf.predict(X_test)\n",
    "answer[['target', 'target_2', 'target_3']].value_counts()"
   ]
  },
  {
   "cell_type": "code",
   "execution_count": 198,
   "id": "e97b8351",
   "metadata": {
    "scrolled": true
   },
   "outputs": [
    {
     "data": {
      "text/plain": [
       "target\n",
       "0         2116\n",
       "1         1804\n",
       "dtype: int64"
      ]
     },
     "execution_count": 198,
     "metadata": {},
     "output_type": "execute_result"
    }
   ],
   "source": [
    "answer['target'] = answer.target.values|answer.target_2.values|answer.target_3.values|answer.target_4.values\n",
    "answer[['target']].value_counts()"
   ]
  },
  {
   "cell_type": "markdown",
   "id": "713a4c31",
   "metadata": {},
   "source": [
    "### Extra Tree"
   ]
  },
  {
   "cell_type": "code",
   "execution_count": 151,
   "id": "72e4a545",
   "metadata": {},
   "outputs": [
    {
     "data": {
      "text/plain": [
       "(array([[1487,    3],\n",
       "        [ 336,  263]], dtype=int64),\n",
       " 0.608092485549133)"
      ]
     },
     "execution_count": 151,
     "metadata": {},
     "output_type": "execute_result"
    }
   ],
   "source": [
    "from sklearn.ensemble import ExtraTreesClassifier\n",
    "ex_tree_clf = ExtraTreesClassifier(n_estimators=1000, max_features=27, criterion='gini', max_depth=None, random_state=42)\n",
    "ex_tree_clf.fit(X_train_up, y_train_up)\n",
    "y_val_pred = ex_tree_clf.predict(X_val)\n",
    "confusion_matrix(y_val, y_val_pred), f1_score(y_val, y_val_pred)"
   ]
  },
  {
   "cell_type": "code",
   "execution_count": 195,
   "id": "eef0c3ee",
   "metadata": {
    "scrolled": true
   },
   "outputs": [
    {
     "data": {
      "text/plain": [
       "(array([[1482,    8],\n",
       "        [ 278,  321]], dtype=int64),\n",
       " 0.6918103448275862)"
      ]
     },
     "execution_count": 195,
     "metadata": {},
     "output_type": "execute_result"
    }
   ],
   "source": [
    "from sklearn.ensemble import ExtraTreesClassifier\n",
    "ex_tree_clf = ExtraTreesClassifier(n_estimators=1000, max_features=27, criterion='gini', max_depth=None, random_state=42)\n",
    "ex_tree_clf.fit(X_train, y_train)\n",
    "y_val_pred = ex_tree_clf.predict(X_val)\n",
    "confusion_matrix(y_val, y_val_pred), f1_score(y_val, y_val_pred)"
   ]
  },
  {
   "cell_type": "code",
   "execution_count": 196,
   "id": "1d0df8e8",
   "metadata": {
    "scrolled": true
   },
   "outputs": [
    {
     "data": {
      "text/plain": [
       "target  target_2  target_3  target_4\n",
       "0       0         0         0           2116\n",
       "1       1         1         1            858\n",
       "                  0         0            609\n",
       "                  1         0            134\n",
       "                  0         1            100\n",
       "        0         0         0             87\n",
       "0       0         1         1              6\n",
       "                            0              4\n",
       "1       0         1         0              3\n",
       "                  0         1              2\n",
       "                  1         1              1\n",
       "dtype: int64"
      ]
     },
     "execution_count": 196,
     "metadata": {},
     "output_type": "execute_result"
    }
   ],
   "source": [
    "answer['target_4'] = ex_tree_clf.predict(X_test)\n",
    "answer[['target', 'target_2',  'target_3', 'target_4']].value_counts()"
   ]
  },
  {
   "cell_type": "code",
   "execution_count": 197,
   "id": "ab6ef098",
   "metadata": {},
   "outputs": [
    {
     "data": {
      "text/plain": [
       "target\n",
       "0         2116\n",
       "1         1804\n",
       "dtype: int64"
      ]
     },
     "execution_count": 197,
     "metadata": {},
     "output_type": "execute_result"
    }
   ],
   "source": [
    "answer['target'] = answer.target.values|answer.target_2.values|answer.target_3.values|answer.target_4.values\n",
    "answer[['target']].value_counts()"
   ]
  },
  {
   "cell_type": "code",
   "execution_count": 203,
   "id": "0bdd4f4a",
   "metadata": {},
   "outputs": [],
   "source": [
    "answer['target'].to_csv('models_ensemble.csv')"
   ]
  },
  {
   "cell_type": "code",
   "execution_count": null,
   "id": "47a7ebab",
   "metadata": {},
   "outputs": [],
   "source": []
  }
 ],
 "metadata": {
  "kernelspec": {
   "display_name": "Python 3 (ipykernel)",
   "language": "python",
   "name": "python3"
  },
  "language_info": {
   "codemirror_mode": {
    "name": "ipython",
    "version": 3
   },
   "file_extension": ".py",
   "mimetype": "text/x-python",
   "name": "python",
   "nbconvert_exporter": "python",
   "pygments_lexer": "ipython3",
   "version": "3.9.7"
  }
 },
 "nbformat": 4,
 "nbformat_minor": 5
}
